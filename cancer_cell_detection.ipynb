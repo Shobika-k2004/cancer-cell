{
  "nbformat": 4,
  "nbformat_minor": 0,
  "metadata": {
    "colab": {
      "provenance": []
    },
    "kernelspec": {
      "name": "python3",
      "display_name": "Python 3"
    },
    "language_info": {
      "name": "python"
    }
  },
  "cells": [
    {
      "cell_type": "code",
      "execution_count": null,
      "metadata": {
        "id": "c3xRlfGu8gSA"
      },
      "outputs": [],
      "source": [
        "import seaborn as sns\n",
        "import matplotlib.pyplot as plt\n",
        "import numpy as np\n",
        "from sklearn.model_selection import train_test_split\n",
        "import os, cv2\n",
        "import tensorflow as tf\n",
        "from tensorflow.keras.models import Sequential\n",
        "from tensorflow.keras.layers import Conv2D, Flatten, Dense, MaxPool2D ,Dropout"
      ]
    },
    {
      "cell_type": "code",
      "source": [
        "import pandas as pd\n",
        "data = pd.read_csv('hmnist_28_28_RGB.csv')"
      ],
      "metadata": {
        "id": "uyB3YJYrAKd-"
      },
      "execution_count": null,
      "outputs": []
    },
    {
      "cell_type": "code",
      "source": [
        "y = data['label']\n",
        "x = data.drop(columns = ['label'])"
      ],
      "metadata": {
        "id": "o4cobzsagT5B"
      },
      "execution_count": null,
      "outputs": []
    },
    {
      "cell_type": "code",
      "source": [
        "tabular_data = pd.read_csv('HAM10000_metadata.csv')\n",
        "tabular_data.head()"
      ],
      "metadata": {
        "colab": {
          "base_uri": "https://localhost:8080/",
          "height": 206
        },
        "id": "bKva2sjigUfe",
        "outputId": "f580ab2b-4ec8-4325-f73b-697baba1d0c5"
      },
      "execution_count": null,
      "outputs": [
        {
          "output_type": "execute_result",
          "data": {
            "text/plain": [
              "     lesion_id      image_id   dx dx_type   age   sex localization\n",
              "0  HAM_0000118  ISIC_0027419  bkl   histo  80.0  male        scalp\n",
              "1  HAM_0000118  ISIC_0025030  bkl   histo  80.0  male        scalp\n",
              "2  HAM_0002730  ISIC_0026769  bkl   histo  80.0  male        scalp\n",
              "3  HAM_0002730  ISIC_0025661  bkl   histo  80.0  male        scalp\n",
              "4  HAM_0001466  ISIC_0031633  bkl   histo  75.0  male          ear"
            ],
            "text/html": [
              "\n",
              "  <div id=\"df-e381c991-4562-46d0-a3d4-bbbe6240be91\">\n",
              "    <div class=\"colab-df-container\">\n",
              "      <div>\n",
              "<style scoped>\n",
              "    .dataframe tbody tr th:only-of-type {\n",
              "        vertical-align: middle;\n",
              "    }\n",
              "\n",
              "    .dataframe tbody tr th {\n",
              "        vertical-align: top;\n",
              "    }\n",
              "\n",
              "    .dataframe thead th {\n",
              "        text-align: right;\n",
              "    }\n",
              "</style>\n",
              "<table border=\"1\" class=\"dataframe\">\n",
              "  <thead>\n",
              "    <tr style=\"text-align: right;\">\n",
              "      <th></th>\n",
              "      <th>lesion_id</th>\n",
              "      <th>image_id</th>\n",
              "      <th>dx</th>\n",
              "      <th>dx_type</th>\n",
              "      <th>age</th>\n",
              "      <th>sex</th>\n",
              "      <th>localization</th>\n",
              "    </tr>\n",
              "  </thead>\n",
              "  <tbody>\n",
              "    <tr>\n",
              "      <th>0</th>\n",
              "      <td>HAM_0000118</td>\n",
              "      <td>ISIC_0027419</td>\n",
              "      <td>bkl</td>\n",
              "      <td>histo</td>\n",
              "      <td>80.0</td>\n",
              "      <td>male</td>\n",
              "      <td>scalp</td>\n",
              "    </tr>\n",
              "    <tr>\n",
              "      <th>1</th>\n",
              "      <td>HAM_0000118</td>\n",
              "      <td>ISIC_0025030</td>\n",
              "      <td>bkl</td>\n",
              "      <td>histo</td>\n",
              "      <td>80.0</td>\n",
              "      <td>male</td>\n",
              "      <td>scalp</td>\n",
              "    </tr>\n",
              "    <tr>\n",
              "      <th>2</th>\n",
              "      <td>HAM_0002730</td>\n",
              "      <td>ISIC_0026769</td>\n",
              "      <td>bkl</td>\n",
              "      <td>histo</td>\n",
              "      <td>80.0</td>\n",
              "      <td>male</td>\n",
              "      <td>scalp</td>\n",
              "    </tr>\n",
              "    <tr>\n",
              "      <th>3</th>\n",
              "      <td>HAM_0002730</td>\n",
              "      <td>ISIC_0025661</td>\n",
              "      <td>bkl</td>\n",
              "      <td>histo</td>\n",
              "      <td>80.0</td>\n",
              "      <td>male</td>\n",
              "      <td>scalp</td>\n",
              "    </tr>\n",
              "    <tr>\n",
              "      <th>4</th>\n",
              "      <td>HAM_0001466</td>\n",
              "      <td>ISIC_0031633</td>\n",
              "      <td>bkl</td>\n",
              "      <td>histo</td>\n",
              "      <td>75.0</td>\n",
              "      <td>male</td>\n",
              "      <td>ear</td>\n",
              "    </tr>\n",
              "  </tbody>\n",
              "</table>\n",
              "</div>\n",
              "      <button class=\"colab-df-convert\" onclick=\"convertToInteractive('df-e381c991-4562-46d0-a3d4-bbbe6240be91')\"\n",
              "              title=\"Convert this dataframe to an interactive table.\"\n",
              "              style=\"display:none;\">\n",
              "        \n",
              "  <svg xmlns=\"http://www.w3.org/2000/svg\" height=\"24px\"viewBox=\"0 0 24 24\"\n",
              "       width=\"24px\">\n",
              "    <path d=\"M0 0h24v24H0V0z\" fill=\"none\"/>\n",
              "    <path d=\"M18.56 5.44l.94 2.06.94-2.06 2.06-.94-2.06-.94-.94-2.06-.94 2.06-2.06.94zm-11 1L8.5 8.5l.94-2.06 2.06-.94-2.06-.94L8.5 2.5l-.94 2.06-2.06.94zm10 10l.94 2.06.94-2.06 2.06-.94-2.06-.94-.94-2.06-.94 2.06-2.06.94z\"/><path d=\"M17.41 7.96l-1.37-1.37c-.4-.4-.92-.59-1.43-.59-.52 0-1.04.2-1.43.59L10.3 9.45l-7.72 7.72c-.78.78-.78 2.05 0 2.83L4 21.41c.39.39.9.59 1.41.59.51 0 1.02-.2 1.41-.59l7.78-7.78 2.81-2.81c.8-.78.8-2.07 0-2.86zM5.41 20L4 18.59l7.72-7.72 1.47 1.35L5.41 20z\"/>\n",
              "  </svg>\n",
              "      </button>\n",
              "      \n",
              "  <style>\n",
              "    .colab-df-container {\n",
              "      display:flex;\n",
              "      flex-wrap:wrap;\n",
              "      gap: 12px;\n",
              "    }\n",
              "\n",
              "    .colab-df-convert {\n",
              "      background-color: #E8F0FE;\n",
              "      border: none;\n",
              "      border-radius: 50%;\n",
              "      cursor: pointer;\n",
              "      display: none;\n",
              "      fill: #1967D2;\n",
              "      height: 32px;\n",
              "      padding: 0 0 0 0;\n",
              "      width: 32px;\n",
              "    }\n",
              "\n",
              "    .colab-df-convert:hover {\n",
              "      background-color: #E2EBFA;\n",
              "      box-shadow: 0px 1px 2px rgba(60, 64, 67, 0.3), 0px 1px 3px 1px rgba(60, 64, 67, 0.15);\n",
              "      fill: #174EA6;\n",
              "    }\n",
              "\n",
              "    [theme=dark] .colab-df-convert {\n",
              "      background-color: #3B4455;\n",
              "      fill: #D2E3FC;\n",
              "    }\n",
              "\n",
              "    [theme=dark] .colab-df-convert:hover {\n",
              "      background-color: #434B5C;\n",
              "      box-shadow: 0px 1px 3px 1px rgba(0, 0, 0, 0.15);\n",
              "      filter: drop-shadow(0px 1px 2px rgba(0, 0, 0, 0.3));\n",
              "      fill: #FFFFFF;\n",
              "    }\n",
              "  </style>\n",
              "\n",
              "      <script>\n",
              "        const buttonEl =\n",
              "          document.querySelector('#df-e381c991-4562-46d0-a3d4-bbbe6240be91 button.colab-df-convert');\n",
              "        buttonEl.style.display =\n",
              "          google.colab.kernel.accessAllowed ? 'block' : 'none';\n",
              "\n",
              "        async function convertToInteractive(key) {\n",
              "          const element = document.querySelector('#df-e381c991-4562-46d0-a3d4-bbbe6240be91');\n",
              "          const dataTable =\n",
              "            await google.colab.kernel.invokeFunction('convertToInteractive',\n",
              "                                                     [key], {});\n",
              "          if (!dataTable) return;\n",
              "\n",
              "          const docLinkHtml = 'Like what you see? Visit the ' +\n",
              "            '<a target=\"_blank\" href=https://colab.research.google.com/notebooks/data_table.ipynb>data table notebook</a>'\n",
              "            + ' to learn more about interactive tables.';\n",
              "          element.innerHTML = '';\n",
              "          dataTable['output_type'] = 'display_data';\n",
              "          await google.colab.output.renderOutput(dataTable, element);\n",
              "          const docLink = document.createElement('div');\n",
              "          docLink.innerHTML = docLinkHtml;\n",
              "          element.appendChild(docLink);\n",
              "        }\n",
              "      </script>\n",
              "    </div>\n",
              "  </div>\n",
              "  "
            ]
          },
          "metadata": {},
          "execution_count": 31
        }
      ]
    },
    {
      "cell_type": "code",
      "source": [
        "tabular_data.shape"
      ],
      "metadata": {
        "colab": {
          "base_uri": "https://localhost:8080/"
        },
        "id": "g9ZjWb31gb31",
        "outputId": "2720aac1-f7a1-4965-8c61-1e58b3fc3968"
      },
      "execution_count": null,
      "outputs": [
        {
          "output_type": "execute_result",
          "data": {
            "text/plain": [
              "(10015, 7)"
            ]
          },
          "metadata": {},
          "execution_count": 32
        }
      ]
    },
    {
      "cell_type": "code",
      "source": [
        "classes = {4: ('nv', ' melanocytic nevi'), 6: ('mel', 'melanoma'),\n",
        "           2 :('bkl', 'benign keratosis-like lesions'), 1:('bcc' , ' basal cell carcinoma'),\n",
        "           5: ('vasc', ' pyogenic granulomas and hemorrhage'), 0: ('akiec', 'Actinic keratoses and intraepithelial carcinomae'),  3: ('df', 'dermatofibroma')}"
      ],
      "metadata": {
        "id": "HKxuAzsNgdl5"
      },
      "execution_count": null,
      "outputs": []
    },
    {
      "cell_type": "code",
      "source": [
        "sns.countplot(x = 'dx', data = tabular_data)\n",
        "plt.xlabel('Types of cancer ', size=12)\n",
        "plt.ylabel('Frequency', size=12)\n",
        "plt.title('Distribution ', size=16)"
      ],
      "metadata": {
        "colab": {
          "base_uri": "https://localhost:8080/",
          "height": 495
        },
        "id": "rj137LJLgfFH",
        "outputId": "3845cb5b-c50b-4b40-b037-5d1e3f9210d7"
      },
      "execution_count": null,
      "outputs": [
        {
          "output_type": "execute_result",
          "data": {
            "text/plain": [
              "Text(0.5, 1.0, 'Distribution ')"
            ]
          },
          "metadata": {},
          "execution_count": 34
        },
        {
          "output_type": "display_data",
          "data": {
            "text/plain": [
              "<Figure size 640x480 with 1 Axes>"
            ],
            "image/png": "[encoded data removed]"
          },
          "metadata": {}
        }
      ]
    },
    {
      "cell_type": "code",
      "source": [
        "bar, ax = plt.subplots(figsize = (10,10))\n",
        "plt.pie(tabular_data['sex'].value_counts(), labels = tabular_data['sex'].value_counts().index, autopct=\"%.1f%%\")\n",
        "plt.title('Gender of paitents', size=16)"
      ],
      "metadata": {
        "colab": {
          "base_uri": "https://localhost:8080/",
          "height": 848
        },
        "id": "KGuNI-t_gpOQ",
        "outputId": "a861a1ac-46c8-488a-f7a1-6e0345c8b3ae"
      },
      "execution_count": null,
      "outputs": [
        {
          "output_type": "execute_result",
          "data": {
            "text/plain": [
              "Text(0.5, 1.0, 'Gender of paitents')"
            ]
          },
          "metadata": {},
          "execution_count": 35
        },
        {
          "output_type": "display_data",
          "data": {
            "text/plain": [
              "<Figure size 1000x1000 with 1 Axes>"
            ],
            "image/png": "[encoded data removed]"
          },
          "metadata": {}
        }
      ]
    },
    {
      "cell_type": "code",
      "source": [
        "tabular_data['localization'].value_counts().to_frame()\n"
      ],
      "metadata": {
        "colab": {
          "base_uri": "https://localhost:8080/",
          "height": 520
        },
        "id": "1eCG3XY3gqwk",
        "outputId": "7e302994-8fb9-4cf3-84c6-9175d85d4db6"
      },
      "execution_count": null,
      "outputs": [
        {
          "output_type": "execute_result",
          "data": {
            "text/plain": [
              "                 localization\n",
              "back                     2192\n",
              "lower extremity          2077\n",
              "trunk                    1404\n",
              "upper extremity          1118\n",
              "abdomen                  1022\n",
              "face                      745\n",
              "chest                     407\n",
              "foot                      319\n",
              "unknown                   234\n",
              "neck                      168\n",
              "scalp                     128\n",
              "hand                       90\n",
              "ear                        56\n",
              "genital                    48\n",
              "acral                       7"
            ],
            "text/html": [
              "\n",
              "  <div id=\"df-04a436bb-9392-437e-8951-c9d2880421cc\">\n",
              "    <div class=\"colab-df-container\">\n",
              "      <div>\n",
              "<style scoped>\n",
              "    .dataframe tbody tr th:only-of-type {\n",
              "        vertical-align: middle;\n",
              "    }\n",
              "\n",
              "    .dataframe tbody tr th {\n",
              "        vertical-align: top;\n",
              "    }\n",
              "\n",
              "    .dataframe thead th {\n",
              "        text-align: right;\n",
              "    }\n",
              "</style>\n",
              "<table border=\"1\" class=\"dataframe\">\n",
              "  <thead>\n",
              "    <tr style=\"text-align: right;\">\n",
              "      <th></th>\n",
              "      <th>localization</th>\n",
              "    </tr>\n",
              "  </thead>\n",
              "  <tbody>\n",
              "    <tr>\n",
              "      <th>back</th>\n",
              "      <td>2192</td>\n",
              "    </tr>\n",
              "    <tr>\n",
              "      <th>lower extremity</th>\n",
              "      <td>2077</td>\n",
              "    </tr>\n",
              "    <tr>\n",
              "      <th>trunk</th>\n",
              "      <td>1404</td>\n",
              "    </tr>\n",
              "    <tr>\n",
              "      <th>upper extremity</th>\n",
              "      <td>1118</td>\n",
              "    </tr>\n",
              "    <tr>\n",
              "      <th>abdomen</th>\n",
              "      <td>1022</td>\n",
              "    </tr>\n",
              "    <tr>\n",
              "      <th>face</th>\n",
              "      <td>745</td>\n",
              "    </tr>\n",
              "    <tr>\n",
              "      <th>chest</th>\n",
              "      <td>407</td>\n",
              "    </tr>\n",
              "    <tr>\n",
              "      <th>foot</th>\n",
              "      <td>319</td>\n",
              "    </tr>\n",
              "    <tr>\n",
              "      <th>unknown</th>\n",
              "      <td>234</td>\n",
              "    </tr>\n",
              "    <tr>\n",
              "      <th>neck</th>\n",
              "      <td>168</td>\n",
              "    </tr>\n",
              "    <tr>\n",
              "      <th>scalp</th>\n",
              "      <td>128</td>\n",
              "    </tr>\n",
              "    <tr>\n",
              "      <th>hand</th>\n",
              "      <td>90</td>\n",
              "    </tr>\n",
              "    <tr>\n",
              "      <th>ear</th>\n",
              "      <td>56</td>\n",
              "    </tr>\n",
              "    <tr>\n",
              "      <th>genital</th>\n",
              "      <td>48</td>\n",
              "    </tr>\n",
              "    <tr>\n",
              "      <th>acral</th>\n",
              "      <td>7</td>\n",
              "    </tr>\n",
              "  </tbody>\n",
              "</table>\n",
              "</div>\n",
              "      <button class=\"colab-df-convert\" onclick=\"convertToInteractive('df-04a436bb-9392-437e-8951-c9d2880421cc')\"\n",
              "              title=\"Convert this dataframe to an interactive table.\"\n",
              "              style=\"display:none;\">\n",
              "        \n",
              "  <svg xmlns=\"http://www.w3.org/2000/svg\" height=\"24px\"viewBox=\"0 0 24 24\"\n",
              "       width=\"24px\">\n",
              "    <path d=\"M0 0h24v24H0V0z\" fill=\"none\"/>\n",
              "    <path d=\"M18.56 5.44l.94 2.06.94-2.06 2.06-.94-2.06-.94-.94-2.06-.94 2.06-2.06.94zm-11 1L8.5 8.5l.94-2.06 2.06-.94-2.06-.94L8.5 2.5l-.94 2.06-2.06.94zm10 10l.94 2.06.94-2.06 2.06-.94-2.06-.94-.94-2.06-.94 2.06-2.06.94z\"/><path d=\"M17.41 7.96l-1.37-1.37c-.4-.4-.92-.59-1.43-.59-.52 0-1.04.2-1.43.59L10.3 9.45l-7.72 7.72c-.78.78-.78 2.05 0 2.83L4 21.41c.39.39.9.59 1.41.59.51 0 1.02-.2 1.41-.59l7.78-7.78 2.81-2.81c.8-.78.8-2.07 0-2.86zM5.41 20L4 18.59l7.72-7.72 1.47 1.35L5.41 20z\"/>\n",
              "  </svg>\n",
              "      </button>\n",
              "      \n",
              "  <style>\n",
              "    .colab-df-container {\n",
              "      display:flex;\n",
              "      flex-wrap:wrap;\n",
              "      gap: 12px;\n",
              "    }\n",
              "\n",
              "    .colab-df-convert {\n",
              "      background-color: #E8F0FE;\n",
              "      border: none;\n",
              "      border-radius: 50%;\n",
              "      cursor: pointer;\n",
              "      display: none;\n",
              "      fill: #1967D2;\n",
              "      height: 32px;\n",
              "      padding: 0 0 0 0;\n",
              "      width: 32px;\n",
              "    }\n",
              "\n",
              "    .colab-df-convert:hover {\n",
              "      background-color: #E2EBFA;\n",
              "      box-shadow: 0px 1px 2px rgba(60, 64, 67, 0.3), 0px 1px 3px 1px rgba(60, 64, 67, 0.15);\n",
              "      fill: #174EA6;\n",
              "    }\n",
              "\n",
              "    [theme=dark] .colab-df-convert {\n",
              "      background-color: #3B4455;\n",
              "      fill: #D2E3FC;\n",
              "    }\n",
              "\n",
              "    [theme=dark] .colab-df-convert:hover {\n",
              "      background-color: #434B5C;\n",
              "      box-shadow: 0px 1px 3px 1px rgba(0, 0, 0, 0.15);\n",
              "      filter: drop-shadow(0px 1px 2px rgba(0, 0, 0, 0.3));\n",
              "      fill: #FFFFFF;\n",
              "    }\n",
              "  </style>\n",
              "\n",
              "      <script>\n",
              "        const buttonEl =\n",
              "          document.querySelector('#df-04a436bb-9392-437e-8951-c9d2880421cc button.colab-df-convert');\n",
              "        buttonEl.style.display =\n",
              "          google.colab.kernel.accessAllowed ? 'block' : 'none';\n",
              "\n",
              "        async function convertToInteractive(key) {\n",
              "          const element = document.querySelector('#df-04a436bb-9392-437e-8951-c9d2880421cc');\n",
              "          const dataTable =\n",
              "            await google.colab.kernel.invokeFunction('convertToInteractive',\n",
              "                                                     [key], {});\n",
              "          if (!dataTable) return;\n",
              "\n",
              "          const docLinkHtml = 'Like what you see? Visit the ' +\n",
              "            '<a target=\"_blank\" href=https://colab.research.google.com/notebooks/data_table.ipynb>data table notebook</a>'\n",
              "            + ' to learn more about interactive tables.';\n",
              "          element.innerHTML = '';\n",
              "          dataTable['output_type'] = 'display_data';\n",
              "          await google.colab.output.renderOutput(dataTable, element);\n",
              "          const docLink = document.createElement('div');\n",
              "          docLink.innerHTML = docLinkHtml;\n",
              "          element.appendChild(docLink);\n",
              "        }\n",
              "      </script>\n",
              "    </div>\n",
              "  </div>\n",
              "  "
            ]
          },
          "metadata": {},
          "execution_count": 36
        }
      ]
    },
    {
      "cell_type": "code",
      "source": [
        "tabular_data['dx'].value_counts()"
      ],
      "metadata": {
        "colab": {
          "base_uri": "https://localhost:8080/"
        },
        "id": "cliYkvAMhWeB",
        "outputId": "58906795-9d58-49ab-b823-4fb0c15d8679"
      },
      "execution_count": null,
      "outputs": [
        {
          "output_type": "execute_result",
          "data": {
            "text/plain": [
              "nv       6705\n",
              "mel      1113\n",
              "bkl      1099\n",
              "bcc       514\n",
              "akiec     327\n",
              "vasc      142\n",
              "df        115\n",
              "Name: dx, dtype: int64"
            ]
          },
          "metadata": {},
          "execution_count": 37
        }
      ]
    },
    {
      "cell_type": "code",
      "source": [
        "value = tabular_data[['localization', 'sex']].value_counts().to_frame()\n",
        "value.reset_index(level=[1,0 ], inplace=True)\n",
        "temp = value.rename(columns = {'localization':'location', 0: 'count'})\n",
        "\n",
        "bar, ax = plt.subplots(figsize = (12, 12))\n",
        "sns.barplot(x = 'location',  y='count', hue = 'sex', data = temp)\n",
        "plt.title('Location of disease over Gender', size = 16)\n",
        "plt.xlabel('Disease', size=12)\n",
        "plt.ylabel('Frequency/Count', size=12)\n",
        "plt.xticks(rotation = 90)"
      ],
      "metadata": {
        "colab": {
          "base_uri": "https://localhost:8080/",
          "height": 1000
        },
        "id": "_NhrL0i0hYTj",
        "outputId": "b434cd14-7b71-4d42-d264-ec69bee2418a"
      },
      "execution_count": null,
      "outputs": [
        {
          "output_type": "execute_result",
          "data": {
            "text/plain": [
              "(array([ 0,  1,  2,  3,  4,  5,  6,  7,  8,  9, 10, 11, 12, 13, 14]),\n",
              " [Text(0, 0, 'back'),\n",
              "  Text(1, 0, 'lower extremity'),\n",
              "  Text(2, 0, 'trunk'),\n",
              "  Text(3, 0, 'upper extremity'),\n",
              "  Text(4, 0, 'abdomen'),\n",
              "  Text(5, 0, 'face'),\n",
              "  Text(6, 0, 'chest'),\n",
              "  Text(7, 0, 'foot'),\n",
              "  Text(8, 0, 'scalp'),\n",
              "  Text(9, 0, 'neck'),\n",
              "  Text(10, 0, 'unknown'),\n",
              "  Text(11, 0, 'hand'),\n",
              "  Text(12, 0, 'genital'),\n",
              "  Text(13, 0, 'ear'),\n",
              "  Text(14, 0, 'acral')])"
            ]
          },
          "metadata": {},
          "execution_count": 38
        },
        {
          "output_type": "display_data",
          "data": {
            "text/plain": [
              "<Figure size 1200x1200 with 1 Axes>"
            ],
            "image/png": "[encoded data removed]"
          },
          "metadata": {}
        }
      ]
    },
    {
      "cell_type": "code",
      "source": [
        "x = np.array(x).reshape(-1,28,28,3)\n",
        "print('Shape of X :',x.shape)"
      ],
      "metadata": {
        "colab": {
          "base_uri": "https://localhost:8080/"
        },
        "id": "0g39otQNhbeQ",
        "outputId": "81078456-3825-4254-f9fa-5b911495c551"
      },
      "execution_count": null,
      "outputs": [
        {
          "output_type": "stream",
          "name": "stdout",
          "text": [
            "Shape of X : (10015, 28, 28, 3)\n"
          ]
        }
      ]
    },
    {
      "cell_type": "code",
      "source": [
        "x = (x-np.mean(x))/np.std(x)\n",
        "X_train, X_test, Y_train, Y_test = train_test_split(x,y, test_size=0.2, random_state=1)\n",
        "Y_train"
      ],
      "metadata": {
        "colab": {
          "base_uri": "https://localhost:8080/"
        },
        "id": "jiNK4fsihg8N",
        "outputId": "b05f5694-c7b2-4d4a-fe22-4603b63ba165"
      },
      "execution_count": null,
      "outputs": [
        {
          "output_type": "execute_result",
          "data": {
            "text/plain": [
              "1074    2\n",
              "3588    4\n",
              "8385    4\n",
              "2205    6\n",
              "2441    5\n",
              "       ..\n",
              "2895    1\n",
              "7813    4\n",
              "905     2\n",
              "5192    4\n",
              "235     2\n",
              "Name: label, Length: 8012, dtype: int64"
            ]
          },
          "metadata": {},
          "execution_count": 40
        }
      ]
    },
    {
      "cell_type": "code",
      "source": [
        "model = Sequential()\n",
        "model.add(Conv2D(16, kernel_size=(3, 3), input_shape=(28, 28, 3), activation='relu', padding='same'))\n",
        "model.add(Conv2D(32, kernel_size=(3, 3), activation='relu'))\n",
        "model.add(MaxPool2D(pool_size=(2, 2)))\n",
        "model.add(Dropout(0.5))  # Added dropout layer\n",
        "\n",
        "model.add(Conv2D(32, kernel_size=(3, 3), activation='relu', padding='same'))\n",
        "model.add(Conv2D(64, kernel_size=(3, 3), activation='relu'))\n",
        "model.add(MaxPool2D(pool_size=(2, 2), padding='same'))\n",
        "model.add(Dropout(0.5))  # Added dropout layer\n",
        "\n",
        "model.add(Flatten())\n",
        "model.add(Dense(64, activation='relu'))\n",
        "model.add(Dropout(0.4))  # Added dropout layer\n",
        "model.add(Dense(32, activation='relu'))\n",
        "model.add(Dropout(0.4))  # Added dropout layer\n",
        "model.add(Dense(7, activation='softmax'))\n",
        "model.summary()"
      ],
      "metadata": {
        "colab": {
          "base_uri": "https://localhost:8080/"
        },
        "id": "uFO-Aq9Yhiml",
        "outputId": "9d142ad6-2a0a-4eee-ca30-61f89cdb703d"
      },
      "execution_count": null,
      "outputs": [
        {
          "output_type": "stream",
          "name": "stdout",
          "text": [
            "Model: \"sequential_3\"\n",
            "_________________________________________________________________\n",
            " Layer (type)                Output Shape              Param #   \n",
            "=================================================================\n",
            " conv2d_6 (Conv2D)           (None, 28, 28, 16)        448       \n",
            "                                                                 \n",
            " conv2d_7 (Conv2D)           (None, 26, 26, 32)        4640      \n",
            "                                                                 \n",
            " max_pooling2d_3 (MaxPooling  (None, 13, 13, 32)       0         \n",
            " 2D)                                                             \n",
            "                                                                 \n",
            " dropout (Dropout)           (None, 13, 13, 32)        0         \n",
            "                                                                 \n",
            " conv2d_8 (Conv2D)           (None, 13, 13, 32)        9248      \n",
            "                                                                 \n",
            " conv2d_9 (Conv2D)           (None, 11, 11, 64)        18496     \n",
            "                                                                 \n",
            " max_pooling2d_4 (MaxPooling  (None, 6, 6, 64)         0         \n",
            " 2D)                                                             \n",
            "                                                                 \n",
            " dropout_1 (Dropout)         (None, 6, 6, 64)          0         \n",
            "                                                                 \n",
            " flatten (Flatten)           (None, 2304)              0         \n",
            "                                                                 \n",
            " dense (Dense)               (None, 64)                147520    \n",
            "                                                                 \n",
            " dropout_2 (Dropout)         (None, 64)                0         \n",
            "                                                                 \n",
            " dense_1 (Dense)             (None, 32)                2080      \n",
            "                                                                 \n",
            " dropout_3 (Dropout)         (None, 32)                0         \n",
            "                                                                 \n",
            " dense_2 (Dense)             (None, 7)                 231       \n",
            "                                                                 \n",
            "=================================================================\n",
            "Total params: 182,663\n",
            "Trainable params: 182,663\n",
            "Non-trainable params: 0\n",
            "_________________________________________________________________\n"
          ]
        }
      ]
    },
    {
      "cell_type": "code",
      "source": [
        "callback = tf.keras.callbacks.ModelCheckpoint(filepath='my_model6.h5',\n",
        "                                                  monitor='val_acc', mode='max',\n",
        "                                                 verbose=1)"
      ],
      "metadata": {
        "id": "CfRV3f5PhtH3"
      },
      "execution_count": null,
      "outputs": []
    },
    {
      "cell_type": "code",
      "source": [
        "from tensorflow.keras.metrics import Precision, Recall, AUC\n",
        "from tensorflow.keras.optimizers import Adam\n",
        "\n",
        "from tensorflow.keras.metrics import (\n",
        "    SparseCategoricalAccuracy,\n",
        "    SparseTopKCategoricalAccuracy,\n",
        "    SparseCategoricalCrossentropy,\n",
        ")\n",
        "num_classes = 7  # Replace this with the number of classes in your dataset\n",
        "optimizer = Adam(learning_rate=0.001)\n",
        "\n",
        "model.compile(\n",
        "    loss=\"sparse_categorical_crossentropy\",\n",
        "    optimizer=optimizer,\n",
        "    metrics=[\"accuracy\"],\n",
        ")\n",
        "\n",
        "history = model.fit(\n",
        "    X_train,\n",
        "    Y_train,\n",
        "    validation_split=0.20,\n",
        "    batch_size=64,\n",
        "    epochs=50,\n",
        "    callbacks=[callback],\n",
        ")"
      ],
      "metadata": {
        "colab": {
          "base_uri": "https://localhost:8080/"
        },
        "id": "s2TDRu_rhyLl",
        "outputId": "34c7a03f-dfcc-4ea7-8579-182ec2208aad"
      },
      "execution_count": null,
      "outputs": [
        {
          "output_type": "stream",
          "name": "stdout",
          "text": [
            "Epoch 1/50\n",
            "100/101 [============================>.] - ETA: 0s - loss: 1.2404 - accuracy: 0.6116\n",
            "Epoch 1: saving model to my_model6.h5\n",
            "101/101 [==============================] - 20s 181ms/step - loss: 1.2396 - accuracy: 0.6118 - val_loss: 1.0070 - val_accuracy: 0.6769\n",
            "Epoch 2/50\n",
            "101/101 [==============================] - ETA: 0s - loss: 1.0144 - accuracy: 0.6623\n",
            "Epoch 2: saving model to my_model6.h5\n",
            "101/101 [==============================] - 20s 198ms/step - loss: 1.0144 - accuracy: 0.6623 - val_loss: 0.9330 - val_accuracy: 0.6769\n",
            "Epoch 3/50\n",
            "100/101 [============================>.] - ETA: 0s - loss: 0.9615 - accuracy: 0.6661\n",
            "Epoch 3: saving model to my_model6.h5\n",
            "101/101 [==============================] - 18s 177ms/step - loss: 0.9621 - accuracy: 0.6659 - val_loss: 0.9058 - val_accuracy: 0.6769\n",
            "Epoch 4/50\n",
            "100/101 [============================>.] - ETA: 0s - loss: 0.9175 - accuracy: 0.6716\n",
            "Epoch 4: saving model to my_model6.h5\n",
            "101/101 [==============================] - 17s 171ms/step - loss: 0.9172 - accuracy: 0.6717 - val_loss: 0.8469 - val_accuracy: 0.6775\n",
            "Epoch 5/50\n",
            "100/101 [============================>.] - ETA: 0s - loss: 0.8955 - accuracy: 0.6717\n",
            "Epoch 5: saving model to my_model6.h5\n",
            "101/101 [==============================] - 19s 188ms/step - loss: 0.8953 - accuracy: 0.6716 - val_loss: 0.8549 - val_accuracy: 0.6850\n",
            "Epoch 6/50\n",
            "100/101 [============================>.] - ETA: 0s - loss: 0.8731 - accuracy: 0.6781\n",
            "Epoch 6: saving model to my_model6.h5\n",
            "101/101 [==============================] - 17s 168ms/step - loss: 0.8732 - accuracy: 0.6781 - val_loss: 0.9328 - val_accuracy: 0.6806\n",
            "Epoch 7/50\n",
            "100/101 [============================>.] - ETA: 0s - loss: 0.8786 - accuracy: 0.6830\n",
            "Epoch 7: saving model to my_model6.h5\n",
            "101/101 [==============================] - 17s 172ms/step - loss: 0.8779 - accuracy: 0.6831 - val_loss: 0.9040 - val_accuracy: 0.6881\n",
            "Epoch 8/50\n",
            "100/101 [============================>.] - ETA: 0s - loss: 0.8490 - accuracy: 0.6866\n",
            "Epoch 8: saving model to my_model6.h5\n",
            "101/101 [==============================] - 19s 184ms/step - loss: 0.8492 - accuracy: 0.6864 - val_loss: 0.8555 - val_accuracy: 0.7006\n",
            "Epoch 9/50\n",
            "100/101 [============================>.] - ETA: 0s - loss: 0.8305 - accuracy: 0.6967\n",
            "Epoch 9: saving model to my_model6.h5\n",
            "101/101 [==============================] - 17s 173ms/step - loss: 0.8305 - accuracy: 0.6967 - val_loss: 0.9685 - val_accuracy: 0.7031\n",
            "Epoch 10/50\n",
            "100/101 [============================>.] - ETA: 0s - loss: 0.8391 - accuracy: 0.6966\n",
            "Epoch 10: saving model to my_model6.h5\n",
            "101/101 [==============================] - 17s 173ms/step - loss: 0.8396 - accuracy: 0.6962 - val_loss: 0.8484 - val_accuracy: 0.6887\n",
            "Epoch 11/50\n",
            "100/101 [============================>.] - ETA: 0s - loss: 0.8206 - accuracy: 0.7013\n",
            "Epoch 11: saving model to my_model6.h5\n",
            "101/101 [==============================] - 19s 188ms/step - loss: 0.8206 - accuracy: 0.7012 - val_loss: 0.7955 - val_accuracy: 0.7168\n",
            "Epoch 12/50\n",
            "100/101 [============================>.] - ETA: 0s - loss: 0.8077 - accuracy: 0.7078\n",
            "Epoch 12: saving model to my_model6.h5\n",
            "101/101 [==============================] - 17s 173ms/step - loss: 0.8076 - accuracy: 0.7081 - val_loss: 0.7762 - val_accuracy: 0.7224\n",
            "Epoch 13/50\n",
            "100/101 [============================>.] - ETA: 0s - loss: 0.7927 - accuracy: 0.7069\n",
            "Epoch 13: saving model to my_model6.h5\n",
            "101/101 [==============================] - 17s 172ms/step - loss: 0.7922 - accuracy: 0.7071 - val_loss: 0.8277 - val_accuracy: 0.7130\n",
            "Epoch 14/50\n",
            "100/101 [============================>.] - ETA: 0s - loss: 0.7943 - accuracy: 0.7072\n",
            "Epoch 14: saving model to my_model6.h5\n",
            "101/101 [==============================] - 18s 183ms/step - loss: 0.7942 - accuracy: 0.7073 - val_loss: 0.9785 - val_accuracy: 0.6644\n",
            "Epoch 15/50\n",
            "100/101 [============================>.] - ETA: 0s - loss: 0.7909 - accuracy: 0.7125\n",
            "Epoch 15: saving model to my_model6.h5\n",
            "101/101 [==============================] - 17s 172ms/step - loss: 0.7909 - accuracy: 0.7124 - val_loss: 0.8026 - val_accuracy: 0.7162\n",
            "Epoch 16/50\n",
            "100/101 [============================>.] - ETA: 0s - loss: 0.7682 - accuracy: 0.7123\n",
            "Epoch 16: saving model to my_model6.h5\n",
            "101/101 [==============================] - 17s 173ms/step - loss: 0.7684 - accuracy: 0.7121 - val_loss: 0.7433 - val_accuracy: 0.7349\n",
            "Epoch 17/50\n",
            "101/101 [==============================] - ETA: 0s - loss: 0.7617 - accuracy: 0.7204\n",
            "Epoch 17: saving model to my_model6.h5\n",
            "101/101 [==============================] - 19s 184ms/step - loss: 0.7617 - accuracy: 0.7204 - val_loss: 0.7596 - val_accuracy: 0.7243\n",
            "Epoch 18/50\n",
            "100/101 [============================>.] - ETA: 0s - loss: 0.7627 - accuracy: 0.7216\n",
            "Epoch 18: saving model to my_model6.h5\n",
            "101/101 [==============================] - 17s 173ms/step - loss: 0.7629 - accuracy: 0.7216 - val_loss: 0.7397 - val_accuracy: 0.7392\n",
            "Epoch 19/50\n",
            "100/101 [============================>.] - ETA: 0s - loss: 0.7445 - accuracy: 0.7262\n",
            "Epoch 19: saving model to my_model6.h5\n",
            "101/101 [==============================] - 17s 172ms/step - loss: 0.7442 - accuracy: 0.7263 - val_loss: 0.7547 - val_accuracy: 0.7330\n",
            "Epoch 20/50\n",
            "100/101 [============================>.] - ETA: 0s - loss: 0.7472 - accuracy: 0.7208\n",
            "Epoch 20: saving model to my_model6.h5\n",
            "101/101 [==============================] - 20s 194ms/step - loss: 0.7477 - accuracy: 0.7205 - val_loss: 0.7706 - val_accuracy: 0.7274\n",
            "Epoch 21/50\n",
            "100/101 [============================>.] - ETA: 0s - loss: 0.7226 - accuracy: 0.7287\n",
            "Epoch 21: saving model to my_model6.h5\n",
            "101/101 [==============================] - 17s 172ms/step - loss: 0.7227 - accuracy: 0.7288 - val_loss: 0.7384 - val_accuracy: 0.7380\n",
            "Epoch 22/50\n",
            "100/101 [============================>.] - ETA: 0s - loss: 0.7318 - accuracy: 0.7322\n",
            "Epoch 22: saving model to my_model6.h5\n",
            "101/101 [==============================] - 17s 169ms/step - loss: 0.7316 - accuracy: 0.7323 - val_loss: 0.7208 - val_accuracy: 0.7386\n",
            "Epoch 23/50\n",
            "100/101 [============================>.] - ETA: 0s - loss: 0.7188 - accuracy: 0.7341\n",
            "Epoch 23: saving model to my_model6.h5\n",
            "101/101 [==============================] - 19s 186ms/step - loss: 0.7183 - accuracy: 0.7343 - val_loss: 0.7518 - val_accuracy: 0.7311\n",
            "Epoch 24/50\n",
            "100/101 [============================>.] - ETA: 0s - loss: 0.7173 - accuracy: 0.7356\n",
            "Epoch 24: saving model to my_model6.h5\n",
            "101/101 [==============================] - 17s 172ms/step - loss: 0.7174 - accuracy: 0.7357 - val_loss: 0.7694 - val_accuracy: 0.7405\n",
            "Epoch 25/50\n",
            "100/101 [============================>.] - ETA: 0s - loss: 0.7257 - accuracy: 0.7377\n",
            "Epoch 25: saving model to my_model6.h5\n",
            "101/101 [==============================] - 17s 168ms/step - loss: 0.7254 - accuracy: 0.7376 - val_loss: 0.7137 - val_accuracy: 0.7424\n",
            "Epoch 26/50\n",
            "100/101 [============================>.] - ETA: 0s - loss: 0.7030 - accuracy: 0.7367\n",
            "Epoch 26: saving model to my_model6.h5\n",
            "101/101 [==============================] - 19s 184ms/step - loss: 0.7027 - accuracy: 0.7368 - val_loss: 0.7220 - val_accuracy: 0.7455\n",
            "Epoch 27/50\n",
            "100/101 [============================>.] - ETA: 0s - loss: 0.7082 - accuracy: 0.7331\n",
            "Epoch 27: saving model to my_model6.h5\n",
            "101/101 [==============================] - 17s 173ms/step - loss: 0.7078 - accuracy: 0.7333 - val_loss: 0.7210 - val_accuracy: 0.7442\n",
            "Epoch 28/50\n",
            "100/101 [============================>.] - ETA: 0s - loss: 0.6861 - accuracy: 0.7458\n",
            "Epoch 28: saving model to my_model6.h5\n",
            "101/101 [==============================] - 17s 172ms/step - loss: 0.6855 - accuracy: 0.7460 - val_loss: 0.7223 - val_accuracy: 0.7436\n",
            "Epoch 29/50\n",
            "101/101 [==============================] - ETA: 0s - loss: 0.6905 - accuracy: 0.7458\n",
            "Epoch 29: saving model to my_model6.h5\n",
            "101/101 [==============================] - 19s 190ms/step - loss: 0.6905 - accuracy: 0.7458 - val_loss: 0.7325 - val_accuracy: 0.7411\n",
            "Epoch 30/50\n",
            "100/101 [============================>.] - ETA: 0s - loss: 0.6837 - accuracy: 0.7464\n",
            "Epoch 30: saving model to my_model6.h5\n",
            "101/101 [==============================] - 17s 168ms/step - loss: 0.6833 - accuracy: 0.7466 - val_loss: 0.7122 - val_accuracy: 0.7580\n",
            "Epoch 31/50\n",
            "100/101 [============================>.] - ETA: 0s - loss: 0.6737 - accuracy: 0.7456\n",
            "Epoch 31: saving model to my_model6.h5\n",
            "101/101 [==============================] - 17s 172ms/step - loss: 0.6730 - accuracy: 0.7460 - val_loss: 0.7412 - val_accuracy: 0.7399\n",
            "Epoch 32/50\n",
            "101/101 [==============================] - ETA: 0s - loss: 0.6832 - accuracy: 0.7511\n",
            "Epoch 32: saving model to my_model6.h5\n",
            "101/101 [==============================] - 18s 183ms/step - loss: 0.6832 - accuracy: 0.7511 - val_loss: 0.6981 - val_accuracy: 0.7498\n",
            "Epoch 33/50\n",
            "100/101 [============================>.] - ETA: 0s - loss: 0.6590 - accuracy: 0.7534\n",
            "Epoch 33: saving model to my_model6.h5\n",
            "101/101 [==============================] - 17s 173ms/step - loss: 0.6597 - accuracy: 0.7530 - val_loss: 0.7482 - val_accuracy: 0.7411\n",
            "Epoch 34/50\n",
            "100/101 [============================>.] - ETA: 0s - loss: 0.6711 - accuracy: 0.7536\n",
            "Epoch 34: saving model to my_model6.h5\n",
            "101/101 [==============================] - 17s 168ms/step - loss: 0.6715 - accuracy: 0.7536 - val_loss: 0.7023 - val_accuracy: 0.7486\n",
            "Epoch 35/50\n",
            "100/101 [============================>.] - ETA: 0s - loss: 0.6578 - accuracy: 0.7558\n",
            "Epoch 35: saving model to my_model6.h5\n",
            "101/101 [==============================] - 19s 184ms/step - loss: 0.6579 - accuracy: 0.7555 - val_loss: 0.7200 - val_accuracy: 0.7399\n",
            "Epoch 36/50\n",
            "100/101 [============================>.] - ETA: 0s - loss: 0.6530 - accuracy: 0.7563\n",
            "Epoch 36: saving model to my_model6.h5\n",
            "101/101 [==============================] - 17s 166ms/step - loss: 0.6531 - accuracy: 0.7561 - val_loss: 0.7007 - val_accuracy: 0.7573\n",
            "Epoch 37/50\n",
            "100/101 [============================>.] - ETA: 0s - loss: 0.6423 - accuracy: 0.7606\n",
            "Epoch 37: saving model to my_model6.h5\n",
            "101/101 [==============================] - 17s 168ms/step - loss: 0.6426 - accuracy: 0.7605 - val_loss: 0.7270 - val_accuracy: 0.7511\n",
            "Epoch 38/50\n",
            "100/101 [============================>.] - ETA: 0s - loss: 0.6418 - accuracy: 0.7608\n",
            "Epoch 38: saving model to my_model6.h5\n",
            "101/101 [==============================] - 19s 184ms/step - loss: 0.6415 - accuracy: 0.7608 - val_loss: 0.6983 - val_accuracy: 0.7611\n",
            "Epoch 39/50\n",
            "100/101 [============================>.] - ETA: 0s - loss: 0.6383 - accuracy: 0.7564\n",
            "Epoch 39: saving model to my_model6.h5\n",
            "101/101 [==============================] - 17s 167ms/step - loss: 0.6384 - accuracy: 0.7563 - val_loss: 0.7019 - val_accuracy: 0.7523\n",
            "Epoch 40/50\n",
            "100/101 [============================>.] - ETA: 0s - loss: 0.6242 - accuracy: 0.7638\n",
            "Epoch 40: saving model to my_model6.h5\n",
            "101/101 [==============================] - 16s 159ms/step - loss: 0.6239 - accuracy: 0.7638 - val_loss: 0.7128 - val_accuracy: 0.7598\n",
            "Epoch 41/50\n",
            "100/101 [============================>.] - ETA: 0s - loss: 0.6309 - accuracy: 0.7658\n",
            "Epoch 41: saving model to my_model6.h5\n",
            "101/101 [==============================] - 18s 181ms/step - loss: 0.6308 - accuracy: 0.7658 - val_loss: 0.7144 - val_accuracy: 0.7592\n",
            "Epoch 42/50\n",
            "100/101 [============================>.] - ETA: 0s - loss: 0.6241 - accuracy: 0.7648\n",
            "Epoch 42: saving model to my_model6.h5\n",
            "101/101 [==============================] - 16s 163ms/step - loss: 0.6238 - accuracy: 0.7652 - val_loss: 0.6990 - val_accuracy: 0.7580\n",
            "Epoch 43/50\n",
            "100/101 [============================>.] - ETA: 0s - loss: 0.6314 - accuracy: 0.7670\n",
            "Epoch 43: saving model to my_model6.h5\n",
            "101/101 [==============================] - 16s 163ms/step - loss: 0.6318 - accuracy: 0.7670 - val_loss: 0.6950 - val_accuracy: 0.7530\n",
            "Epoch 44/50\n",
            "100/101 [============================>.] - ETA: 0s - loss: 0.6326 - accuracy: 0.7663\n",
            "Epoch 44: saving model to my_model6.h5\n",
            "101/101 [==============================] - 17s 173ms/step - loss: 0.6323 - accuracy: 0.7663 - val_loss: 0.7042 - val_accuracy: 0.7555\n",
            "Epoch 45/50\n",
            "100/101 [============================>.] - ETA: 0s - loss: 0.6197 - accuracy: 0.7639\n",
            "Epoch 45: saving model to my_model6.h5\n",
            "101/101 [==============================] - 17s 164ms/step - loss: 0.6191 - accuracy: 0.7642 - val_loss: 0.7014 - val_accuracy: 0.7523\n",
            "Epoch 46/50\n",
            "101/101 [==============================] - ETA: 0s - loss: 0.6080 - accuracy: 0.7716\n",
            "Epoch 46: saving model to my_model6.h5\n",
            "101/101 [==============================] - 17s 169ms/step - loss: 0.6080 - accuracy: 0.7716 - val_loss: 0.7259 - val_accuracy: 0.7555\n",
            "Epoch 47/50\n",
            "100/101 [============================>.] - ETA: 0s - loss: 0.6161 - accuracy: 0.7711\n",
            "Epoch 47: saving model to my_model6.h5\n",
            "101/101 [==============================] - 16s 159ms/step - loss: 0.6166 - accuracy: 0.7709 - val_loss: 0.6955 - val_accuracy: 0.7505\n",
            "Epoch 48/50\n",
            "100/101 [============================>.] - ETA: 0s - loss: 0.5924 - accuracy: 0.7767\n",
            "Epoch 48: saving model to my_model6.h5\n",
            "101/101 [==============================] - 17s 164ms/step - loss: 0.5931 - accuracy: 0.7766 - val_loss: 0.7490 - val_accuracy: 0.7517\n",
            "Epoch 49/50\n",
            "100/101 [============================>.] - ETA: 0s - loss: 0.6137 - accuracy: 0.7722\n",
            "Epoch 49: saving model to my_model6.h5\n",
            "101/101 [==============================] - 17s 168ms/step - loss: 0.6135 - accuracy: 0.7722 - val_loss: 0.6836 - val_accuracy: 0.7573\n",
            "Epoch 50/50\n",
            "100/101 [============================>.] - ETA: 0s - loss: 0.5928 - accuracy: 0.7841\n",
            "Epoch 50: saving model to my_model6.h5\n",
            "101/101 [==============================] - 16s 159ms/step - loss: 0.5923 - accuracy: 0.7844 - val_loss: 0.6991 - val_accuracy: 0.7573\n"
          ]
        }
      ]
    },
    {
      "cell_type": "code",
      "source": [
        "import numpy as np\n",
        "from sklearn.metrics import (\n",
        "    classification_report,\n",
        "    precision_recall_fscore_support,\n",
        "    roc_auc_score,\n",
        ")\n",
        "\n",
        "# Get the predictions for the test set\n",
        "Y_pred_probs = model.predict(X_test)\n",
        "Y_pred_labels = np.argmax(Y_pred_probs, axis=1)\n",
        "\n",
        "# Calculate precision, recall, and F1-score\n",
        "precision, recall, _, _ = precision_recall_fscore_support(Y_test, Y_pred_labels, average=\"macro\")\n",
        "\n",
        "# Calculate the AUC (macro-average)\n",
        "roc_auc = roc_auc_score(Y_test, Y_pred_probs, multi_class=\"ovr\", average=\"macro\")\n",
        "\n",
        "# Print the results\n",
        "print(\"Precision:\", precision)\n",
        "print(\"Recall:\", recall)\n",
        "print(\"AUC:\", roc_auc)\n",
        "\n",
        "# Optional: Print the detailed classification report\n",
        "print(classification_report(Y_test, Y_pred_labels))"
      ],
      "metadata": {
        "colab": {
          "base_uri": "https://localhost:8080/"
        },
        "id": "EKcsXCi-h4d2",
        "outputId": "8ee2622c-0d82-491e-e175-d8b99ab79811"
      },
      "execution_count": null,
      "outputs": [
        {
          "output_type": "stream",
          "name": "stdout",
          "text": [
            "63/63 [==============================] - 2s 27ms/step\n",
            "Precision: 0.5249981772345108\n",
            "Recall: 0.46298765748809567\n",
            "AUC: 0.9156392846478167\n",
            "              precision    recall  f1-score   support\n",
            "\n",
            "           0       0.41      0.43      0.42        61\n",
            "           1       0.52      0.58      0.55        96\n",
            "           2       0.51      0.41      0.46       228\n",
            "           3       0.00      0.00      0.00        37\n",
            "           4       0.84      0.95      0.89      1327\n",
            "           5       0.82      0.56      0.67        32\n",
            "           6       0.57      0.31      0.40       222\n",
            "\n",
            "    accuracy                           0.76      2003\n",
            "   macro avg       0.52      0.46      0.48      2003\n",
            "weighted avg       0.73      0.76      0.74      2003\n",
            "\n"
          ]
        },
        {
          "output_type": "stream",
          "name": "stderr",
          "text": [
            "/usr/local/lib/python3.10/dist-packages/sklearn/metrics/_classification.py:1344: UndefinedMetricWarning: Precision and F-score are ill-defined and being set to 0.0 in labels with no predicted samples. Use `zero_division` parameter to control this behavior.\n",
            "  _warn_prf(average, modifier, msg_start, len(result))\n",
            "/usr/local/lib/python3.10/dist-packages/sklearn/metrics/_classification.py:1344: UndefinedMetricWarning: Precision and F-score are ill-defined and being set to 0.0 in labels with no predicted samples. Use `zero_division` parameter to control this behavior.\n",
            "  _warn_prf(average, modifier, msg_start, len(result))\n",
            "/usr/local/lib/python3.10/dist-packages/sklearn/metrics/_classification.py:1344: UndefinedMetricWarning: Precision and F-score are ill-defined and being set to 0.0 in labels with no predicted samples. Use `zero_division` parameter to control this behavior.\n",
            "  _warn_prf(average, modifier, msg_start, len(result))\n",
            "/usr/local/lib/python3.10/dist-packages/sklearn/metrics/_classification.py:1344: UndefinedMetricWarning: Precision and F-score are ill-defined and being set to 0.0 in labels with no predicted samples. Use `zero_division` parameter to control this behavior.\n",
            "  _warn_prf(average, modifier, msg_start, len(result))\n"
          ]
        }
      ]
    },
    {
      "cell_type": "code",
      "source": [],
      "metadata": {
        "id": "n1GPw-lEj2Mh"
      },
      "execution_count": null,
      "outputs": []
    }
  ]
}